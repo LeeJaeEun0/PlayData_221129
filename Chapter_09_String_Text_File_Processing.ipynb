{
 "cells": [
  {
   "cell_type": "markdown",
   "id": "a093c10e",
   "metadata": {},
   "source": [
    "# 9장 문자열과 텍스트 파일 데이터 다루기"
   ]
  },
  {
   "cell_type": "markdown",
   "id": "857c12df",
   "metadata": {},
   "source": [
    "## 9.1 문자열 다루기\n",
    "### 문자열 분리하기\n",
    "문자열을 분리하고 싶을때 split()메서드를 사용한다. str.split([sep])"
   ]
  },
  {
   "cell_type": "code",
   "execution_count": 3,
   "id": "dac8e237",
   "metadata": {},
   "outputs": [
    {
     "data": {
      "text/plain": [
       "['에스프레소,아메리카노,카페라테,카푸치노']"
      ]
     },
     "execution_count": 3,
     "metadata": {},
     "output_type": "execute_result"
    }
   ],
   "source": [
    "coffee_menu_str = \"에스프레소,아메리카노,카페라테,카푸치노\" #문자열을 분리 - ,를 기준으로\n",
    "coffee_menu_str.split(\",\")\n",
    "coffee_menu_str.split(\"아\")\n",
    "coffee_menu_str.split(\"ㅔ\")"
   ]
  },
  {
   "cell_type": "markdown",
   "id": "613f05c6",
   "metadata": {},
   "source": [
    "문자열에 직접 split() 메서드를 사용할 수 있다."
   ]
  },
  {
   "cell_type": "code",
   "execution_count": 4,
   "id": "78304ab6",
   "metadata": {},
   "outputs": [
    {
     "data": {
      "text/plain": [
       "['에스프레소,아메리카노,카페라테,카푸치노']"
      ]
     },
     "execution_count": 4,
     "metadata": {},
     "output_type": "execute_result"
    }
   ],
   "source": [
    "\"에스프레소,아메리카노,카페라테,카푸치노\".split()"
   ]
  },
  {
   "cell_type": "code",
   "execution_count": 5,
   "id": "7a9bdd46",
   "metadata": {},
   "outputs": [
    {
     "data": {
      "text/plain": [
       "['에스프레소', '아메리카노', '카페라테', '카푸치노']"
      ]
     },
     "execution_count": 5,
     "metadata": {},
     "output_type": "execute_result"
    }
   ],
   "source": [
    "\"에스프레소 아메리카노 카페라테 카푸치노\".split('')"
   ]
  },
  {
   "cell_type": "code",
   "execution_count": 6,
   "id": "3d6fea27",
   "metadata": {},
   "outputs": [
    {
     "data": {
      "text/plain": [
       "['에스프레소', '아메리카노', '카페라테', '카푸치노']"
      ]
     },
     "execution_count": 6,
     "metadata": {},
     "output_type": "execute_result"
    }
   ],
   "source": [
    "\"에스프레소 아메리카노 카페라테 카푸치노\".split()"
   ]
  },
  {
   "cell_type": "markdown",
   "id": "122db24c",
   "metadata": {},
   "source": [
    "문자열에 인자없이 split를 사용하면 모든 공백과 개행문자를 없앨 수 있다."
   ]
  },
  {
   "cell_type": "code",
   "execution_count": 8,
   "id": "89191e61",
   "metadata": {},
   "outputs": [
    {
     "data": {
      "text/plain": [
       "['에스프레소', '아메리카노', '카페라테', '카푸치노']"
      ]
     },
     "execution_count": 8,
     "metadata": {},
     "output_type": "execute_result"
    }
   ],
   "source": [
    "\" 에스프레소 \\n\\n 아메리카노 \\n 카페라테 \\n 카푸치노 \\n\\n\".split()"
   ]
  },
  {
   "cell_type": "markdown",
   "id": "259e123f",
   "metadata": {},
   "source": [
    "원하는 횟수만큼만 문자열을 분리할 때"
   ]
  },
  {
   "cell_type": "markdown",
   "id": "a02247e0",
   "metadata": {},
   "source": [
    "str.split([sep,]maxsplit=숫자)"
   ]
  },
  {
   "cell_type": "code",
   "execution_count": 12,
   "id": "0c969399",
   "metadata": {},
   "outputs": [
    {
     "name": "stdout",
     "output_type": "stream",
     "text": [
      "['+82', '01-2345-6788']\n",
      "국내 전화번호: 01-2345-6788\n",
      "국가 전화번호: +82\n"
     ]
    }
   ],
   "source": [
    "phone_number = \"+82-01-2345-6788\" # 국가 번호가 포함된 전화번호\n",
    "split_num = phone_number.split(\"-\",1) # 국가 번호와 나머지 번호 분리 # 분리가 된 상태;\n",
    "\n",
    "print(split_num) # 리스트 형태로 국가번화와 국내 전화번호 두개로 나눠진 것을 볼 수 있다.(리스트에 0,1 두개임!!!!!!!)\n",
    "print(\"국내 전화번호: {0}\".format(split_num[1])) # split_num[1] - 리스트 형태이며 국가번호와 분리되서 뒤에 한 덩어리인 전화번호\n",
    "print(\"국가 전화번호: {0}\".format(split_num[0]))"
   ]
  },
  {
   "cell_type": "markdown",
   "id": "425fccdc",
   "metadata": {},
   "source": [
    "### 필요없는 문자열 삭제하기\n",
    "앞뒤 공백또는 필요없는 문자열 삭제\n",
    "str.strip([chars])"
   ]
  },
  {
   "cell_type": "code",
   "execution_count": 13,
   "id": "2064e0be",
   "metadata": {},
   "outputs": [
    {
     "data": {
      "text/plain": [
       "'Python'"
      ]
     },
     "execution_count": 13,
     "metadata": {},
     "output_type": "execute_result"
    }
   ],
   "source": [
    "\"aaaaPythonaaa\".strip('a') # 양쪽에서 a를 삭제 없을때까지"
   ]
  },
  {
   "cell_type": "code",
   "execution_count": 14,
   "id": "26b9bf16",
   "metadata": {},
   "outputs": [
    {
     "data": {
      "text/plain": [
       "'PyaaAAthon'"
      ]
     },
     "execution_count": 14,
     "metadata": {},
     "output_type": "execute_result"
    }
   ],
   "source": [
    "\"aaaaPyaaAAthonaaa\".strip('a') # 양쪽에서 a를 삭제 없을때까지"
   ]
  },
  {
   "cell_type": "markdown",
   "id": "6b839c54",
   "metadata": {},
   "source": [
    "두번 실행"
   ]
  },
  {
   "cell_type": "code",
   "execution_count": 15,
   "id": "e64ed765",
   "metadata": {},
   "outputs": [
    {
     "data": {
      "text/plain": [
       "'bbPythonbbb'"
      ]
     },
     "execution_count": 15,
     "metadata": {},
     "output_type": "execute_result"
    }
   ],
   "source": [
    "test_str = \"aaabbPythonbbbaa\"\n",
    "temp1 = test_str.strip('a') # 문자의 앞뒤의 'a'  제거\n",
    "temp1"
   ]
  },
  {
   "cell_type": "code",
   "execution_count": 16,
   "id": "4300866d",
   "metadata": {},
   "outputs": [
    {
     "data": {
      "text/plain": [
       "'Python'"
      ]
     },
     "execution_count": 16,
     "metadata": {},
     "output_type": "execute_result"
    }
   ],
   "source": [
    "temp1.strip('b') # 문자열 앞뒤의 'b' 제거"
   ]
  },
  {
   "cell_type": "markdown",
   "id": "c1b8eedc",
   "metadata": {},
   "source": [
    "한꺼번에 지정하기"
   ]
  },
  {
   "cell_type": "code",
   "execution_count": 17,
   "id": "65164983",
   "metadata": {},
   "outputs": [
    {
     "data": {
      "text/plain": [
       "'Python'"
      ]
     },
     "execution_count": 17,
     "metadata": {},
     "output_type": "execute_result"
    }
   ],
   "source": [
    "test_str.strip('ab') #문자열 앞뒤의 'a'와 'b' 제거"
   ]
  },
  {
   "cell_type": "markdown",
   "id": "c42ccb70",
   "metadata": {},
   "source": [
    "순서는 상관없음"
   ]
  },
  {
   "cell_type": "code",
   "execution_count": 18,
   "id": "b43a4bc8",
   "metadata": {},
   "outputs": [
    {
     "data": {
      "text/plain": [
       "'Python'"
      ]
     },
     "execution_count": 18,
     "metadata": {},
     "output_type": "execute_result"
    }
   ],
   "source": [
    "test_str.strip('ba') "
   ]
  },
  {
   "cell_type": "code",
   "execution_count": 19,
   "id": "f8f13c53",
   "metadata": {},
   "outputs": [
    {
     "data": {
      "text/plain": [
       "'Pytho'"
      ]
     },
     "execution_count": 19,
     "metadata": {},
     "output_type": "execute_result"
    }
   ],
   "source": [
    "test_str.strip('ban') "
   ]
  },
  {
   "cell_type": "markdown",
   "id": "39a2e614",
   "metadata": {},
   "source": [
    "더 많은 문자를 삭제하는 예"
   ]
  },
  {
   "cell_type": "code",
   "execution_count": 22,
   "id": "27d23021",
   "metadata": {},
   "outputs": [
    {
     "data": {
      "text/plain": [
       "'Python is powerful'"
      ]
     },
     "execution_count": 22,
     "metadata": {},
     "output_type": "execute_result"
    }
   ],
   "source": [
    "test_str_multi = \"##***!!!##.... Python is powerful.!... %%!#..\"\n",
    "test_str_multi.strip(\"*.#!% \")"
   ]
  },
  {
   "cell_type": "code",
   "execution_count": 23,
   "id": "08b33552",
   "metadata": {},
   "outputs": [
    {
     "data": {
      "text/plain": [
       "'Python is powerful'"
      ]
     },
     "execution_count": 23,
     "metadata": {},
     "output_type": "execute_result"
    }
   ],
   "source": [
    "test_str_multi.strip(\"%* #!.\")"
   ]
  },
  {
   "cell_type": "markdown",
   "id": "0289129e",
   "metadata": {},
   "source": [
    "공백제거하기"
   ]
  },
  {
   "cell_type": "code",
   "execution_count": 24,
   "id": "eb774386",
   "metadata": {},
   "outputs": [
    {
     "data": {
      "text/plain": [
       "'Python'"
      ]
     },
     "execution_count": 24,
     "metadata": {},
     "output_type": "execute_result"
    }
   ],
   "source": [
    "\"   Python   \".strip(' ') # 공백을 제거"
   ]
  },
  {
   "cell_type": "code",
   "execution_count": 26,
   "id": "5da360d4",
   "metadata": {},
   "outputs": [
    {
     "data": {
      "text/plain": [
       "['에스프레소', '아메리카노', '카페라테', '카푸치노']"
      ]
     },
     "execution_count": 26,
     "metadata": {},
     "output_type": "execute_result"
    }
   ],
   "source": [
    "\"에스프레소 아메리카노 카페라테 카푸치노\".split(' ') #공백을 기준으롤 나눠서 리스트로 분리함"
   ]
  },
  {
   "cell_type": "markdown",
   "id": "38175259",
   "metadata": {},
   "source": [
    "개행문자 삭제하기"
   ]
  },
  {
   "cell_type": "code",
   "execution_count": 32,
   "id": "5a5dc5ef",
   "metadata": {},
   "outputs": [
    {
     "data": {
      "text/plain": [
       "'Python'"
      ]
     },
     "execution_count": 32,
     "metadata": {},
     "output_type": "execute_result"
    }
   ],
   "source": [
    "\"\\n Python \\n\\n\".strip(' \\n') #공백 제거"
   ]
  },
  {
   "cell_type": "code",
   "execution_count": 33,
   "id": "9bae1cbc",
   "metadata": {},
   "outputs": [
    {
     "data": {
      "text/plain": [
       "' Python '"
      ]
     },
     "execution_count": 33,
     "metadata": {},
     "output_type": "execute_result"
    }
   ],
   "source": [
    "\"\\n Python \\n\\n\".strip('\\n')"
   ]
  },
  {
   "cell_type": "code",
   "execution_count": 31,
   "id": "ff7fcc79",
   "metadata": {},
   "outputs": [
    {
     "data": {
      "text/plain": [
       "'Python'"
      ]
     },
     "execution_count": 31,
     "metadata": {},
     "output_type": "execute_result"
    }
   ],
   "source": [
    "\"\\n Python \\n\\n\".strip()"
   ]
  },
  {
   "cell_type": "markdown",
   "id": "3f6add77",
   "metadata": {},
   "source": [
    "지정한 문자 외 다른 문자를 만날때까지만 삭제"
   ]
  },
  {
   "cell_type": "code",
   "execution_count": 34,
   "id": "90ecfe79",
   "metadata": {},
   "outputs": [
    {
     "data": {
      "text/plain": [
       "'Ball'"
      ]
     },
     "execution_count": 34,
     "metadata": {},
     "output_type": "execute_result"
    }
   ],
   "source": [
    "\"aaaBallaaa\".strip('a') # 다른 문자를 만날때까지 앞뒤로 삭제"
   ]
  },
  {
   "cell_type": "markdown",
   "id": "2574c040",
   "metadata": {},
   "source": [
    "문자열 사이는 없어지지않는다."
   ]
  },
  {
   "cell_type": "code",
   "execution_count": 35,
   "id": "b17f241d",
   "metadata": {},
   "outputs": [
    {
     "data": {
      "text/plain": [
       "'This i very \\n fast.'"
      ]
     },
     "execution_count": 35,
     "metadata": {},
     "output_type": "execute_result"
    }
   ],
   "source": [
    "\"\\n This i very \\n fast. \\n\\n\".strip()"
   ]
  },
  {
   "cell_type": "markdown",
   "id": "59995076",
   "metadata": {},
   "source": [
    "문자열 왼쪽만 lstrip\n",
    "문자열 오른쪽만  rstrip"
   ]
  },
  {
   "cell_type": "code",
   "execution_count": 36,
   "id": "57b0cabd",
   "metadata": {},
   "outputs": [
    {
     "name": "stdout",
     "output_type": "stream",
     "text": [
      "Python is easy to learn,\n",
      "Python is easy to learn,000\n",
      "000Python is easy to learn,\n"
     ]
    }
   ],
   "source": [
    "str_lr = \"000Python is easy to learn,000\"\n",
    "print(str_lr.strip('0'))   # 양쪽 0이 사라짐\n",
    "print(str_lr.lstrip('0'))  # 왼쪽 0이 사라짐\n",
    "print(str_lr.rstrip('0'))  # 오른쪽 0이 사라짐"
   ]
  },
  {
   "cell_type": "markdown",
   "id": "df42fdd0",
   "metadata": {},
   "source": [
    "리스트에서 콤마의 공백을 제거한 후 공백제거"
   ]
  },
  {
   "cell_type": "code",
   "execution_count": 37,
   "id": "d83958f8",
   "metadata": {},
   "outputs": [
    {
     "data": {
      "text/plain": [
       "[' 에스프레소', ' 아메리카노', '    카페라테    ', ' 카푸치노']"
      ]
     },
     "execution_count": 37,
     "metadata": {},
     "output_type": "execute_result"
    }
   ],
   "source": [
    "coffee_menu= \" 에스프레소, 아메리카노,    카페라테    , 카푸치노\"\n",
    "coffee_menu_list = coffee_menu.split(',')\n",
    "coffee_menu_list"
   ]
  },
  {
   "cell_type": "code",
   "execution_count": 38,
   "id": "7763adef",
   "metadata": {},
   "outputs": [
    {
     "name": "stdout",
     "output_type": "stream",
     "text": [
      "['에스프레소', '아메리카노', '카페라테', '카푸치노']\n"
     ]
    }
   ],
   "source": [
    "coffee_list = [] #빈 리스트 생성\n",
    "for coffee in coffee_menu_list:\n",
    "    temp = coffee.strip() # 문자열의공백제거\n",
    "    coffee_list.append(temp) # 리스트 변수에 공백이 제거된 문자열 추가\n",
    "    \n",
    "print(coffee_list) #최종 문자열 리스트 출력"
   ]
  },
  {
   "cell_type": "markdown",
   "id": "64fe581f",
   "metadata": {},
   "source": [
    "### 문자열 연결하기"
   ]
  },
  {
   "cell_type": "markdown",
   "id": "8a69ef98",
   "metadata": {},
   "source": [
    "더하기 연산자로 문자열 연결하기"
   ]
  },
  {
   "cell_type": "code",
   "execution_count": 40,
   "id": "c1294248",
   "metadata": {},
   "outputs": [
    {
     "name": "stdout",
     "output_type": "stream",
     "text": [
      "철수님, 주소와 전화번호를 입력해주세요.\n",
      "영미님, 주소와 전화번호를 입력해주세요.\n"
     ]
    }
   ],
   "source": [
    "name1 = \"철수\"\n",
    "name2 = \"영미\"\n",
    "\n",
    "hello = \"님, 주소와 전화번호를 입력해주세요.\"\n",
    "print(name1+hello)\n",
    "print(name2+hello)"
   ]
  },
  {
   "cell_type": "markdown",
   "id": "21b40a2d",
   "metadata": {},
   "source": [
    "#### join()메소드 사용하기\n",
    "문자열을 항목으로 갖는 시퀀스(seq)의 항목 사이에 문자열(str)을 모두 넣은 후에 문자열로 반환된다."
   ]
  },
  {
   "cell_type": "markdown",
   "id": "b19c168c",
   "metadata": {},
   "source": [
    "#### str.join(seq)"
   ]
  },
  {
   "cell_type": "code",
   "execution_count": 41,
   "id": "ecc1fd85",
   "metadata": {},
   "outputs": [
    {
     "data": {
      "text/plain": [
       "['서울시', '서초구', '반포대로', '201(반포동)']"
      ]
     },
     "execution_count": 41,
     "metadata": {},
     "output_type": "execute_result"
    }
   ],
   "source": [
    "address_list = [\"서울시\",\"서초구\",\"반포대로\",\"201(반포동)\"]\n",
    "address_list"
   ]
  },
  {
   "cell_type": "code",
   "execution_count": 42,
   "id": "75b679c6",
   "metadata": {},
   "outputs": [
    {
     "data": {
      "text/plain": [
       "'서울시 서초구 반포대로 201(반포동)'"
      ]
     },
     "execution_count": 42,
     "metadata": {},
     "output_type": "execute_result"
    }
   ],
   "source": [
    "a = \" \" # 사이사이에 넣을 구분자?\n",
    "a.join(address_list)"
   ]
  },
  {
   "cell_type": "code",
   "execution_count": 43,
   "id": "2f14395e",
   "metadata": {},
   "outputs": [
    {
     "data": {
      "text/plain": [
       "'서울시 서초구 반포대로 201(반포동)'"
      ]
     },
     "execution_count": 43,
     "metadata": {},
     "output_type": "execute_result"
    }
   ],
   "source": [
    "\" \".join(address_list)"
   ]
  },
  {
   "cell_type": "code",
   "execution_count": 44,
   "id": "1ff682ff",
   "metadata": {},
   "outputs": [
    {
     "data": {
      "text/plain": [
       "'서울시*^-^*서초구*^-^*반포대로*^-^*201(반포동)'"
      ]
     },
     "execution_count": 44,
     "metadata": {},
     "output_type": "execute_result"
    }
   ],
   "source": [
    "\"*^-^*\".join(address_list) # 문자열 사이사이에 넣음(join할때 사이사이)"
   ]
  },
  {
   "cell_type": "markdown",
   "id": "4ccac950",
   "metadata": {},
   "source": [
    "### 문자열 찾기"
   ]
  },
  {
   "cell_type": "markdown",
   "id": "d25aa5a4",
   "metadata": {},
   "source": [
    "#### find()메서드\n",
    "##### str.find(search_str)\n",
    "문자열에서 찾으려는 검색 문자열(search_str)과 첫번째로 일치하는 문자열 (str)의 위치를 반환한다."
   ]
  },
  {
   "cell_type": "code",
   "execution_count": 45,
   "id": "bf15b884",
   "metadata": {},
   "outputs": [
    {
     "name": "stdout",
     "output_type": "stream",
     "text": [
      "찾는 문자열의 위치:  0\n",
      "찾는 문자열의 위치:  7\n",
      "찾는 문자열의 위치:  5\n",
      "찾는 문자열의 위치:  -1\n"
     ]
    }
   ],
   "source": [
    "str_f = \"Python code.\"\n",
    "print(\"찾는 문자열의 위치: \",str_f.find(\"Python\")) #인덱스 사용하며 0부터 시작한다!!!!\n",
    "print(\"찾는 문자열의 위치: \",str_f.find(\"code\")) # 공백도 문자로 친다.\n",
    "print(\"찾는 문자열의 위치: \",str_f.find(\"n\"))\n",
    "print(\"찾는 문자열의 위치: \",str_f.find(\"easy\")) # 없으면 -1로!"
   ]
  },
  {
   "cell_type": "markdown",
   "id": "c80df771",
   "metadata": {},
   "source": [
    "#### 시작과 끝 위치를 추가로 지정가능\n",
    "#### str.find(search_str,start, end)"
   ]
  },
  {
   "cell_type": "code",
   "execution_count": 52,
   "id": "bd8780a0",
   "metadata": {},
   "outputs": [
    {
     "name": "stdout",
     "output_type": "stream",
     "text": [
      "20\n",
      "-1\n",
      "-1\n",
      "7\n"
     ]
    }
   ],
   "source": [
    "str_f_se = \"Python is powerful. Python is easy to learn\"\n",
    "\n",
    "print(str_f_se.find(\"Python\",10,30)) # 시작(start)와  끝(end) 설정 # 10부터 시작 ~ 30까지 끝\n",
    "print(str_f_se.find(\"Python\",35)) # 찾기 위한 시작 위치(start) 지정 # 35부터 찾기 시작 #없어서 -1 출력\n",
    "print(str_f_se.find(\"Python\",0,3)) # 글자수보다 적은 범위 - 결과가 없다고 나옴\n",
    "print(str_f_se.find(\"is\",0,35)) #범위 안에 2개 지만 첫번째 것만 출력됨"
   ]
  },
  {
   "cell_type": "markdown",
   "id": "cf4cb892",
   "metadata": {},
   "source": [
    "해당 문자열이 몇 번 나오는지 알고 싶을 때는 count()메서드 사용"
   ]
  },
  {
   "cell_type": "markdown",
   "id": "f6e3f315",
   "metadata": {},
   "source": [
    "#### str.count(search_str) - start와 end는 생략 가능\n",
    "\n",
    "#### str.count(search_str,start)\n",
    "\n",
    "#### str.count(search_str,start, end)"
   ]
  },
  {
   "cell_type": "code",
   "execution_count": 53,
   "id": "17f069fc",
   "metadata": {},
   "outputs": [
    {
     "name": "stdout",
     "output_type": "stream",
     "text": [
      "Python의 개수?:  3\n",
      "powerful의 개수?:  1\n",
      "IPython의 개수?:  0\n"
     ]
    }
   ],
   "source": [
    "str_c = \"Python is powerful. Python is easy to learn. Python is open\"\n",
    "\n",
    "print(\"Python의 개수?: \",str_c.count(\"Python\"))\n",
    "print(\"powerful의 개수?: \",str_c.count(\"powerful\"))\n",
    "print(\"IPython의 개수?: \",str_c.count(\"IPython\")) # 개수를 새는 함수니까 0이 나온다"
   ]
  },
  {
   "cell_type": "markdown",
   "id": "9991744e",
   "metadata": {},
   "source": [
    "#### startswith()와 endswith()\n",
    "해당 문자열로 시작하는지와 끝나는지를 검사한다. 시작하거나 끝나면 True를 아니면 False를 출력한다."
   ]
  },
  {
   "cell_type": "code",
   "execution_count": 55,
   "id": "b3c422ac",
   "metadata": {},
   "outputs": [
    {
     "name": "stdout",
     "output_type": "stream",
     "text": [
      "Python으로 시작?  True\n",
      "is로 시작?  False\n",
      ".로 끝?  True\n",
      "learn으로 끝? False\n"
     ]
    }
   ],
   "source": [
    "str_se = \"Python is powerful. Python is easy to learn.\"\n",
    "\n",
    "print(\"Python으로 시작? \", str_se.startswith(\"Python\"))\n",
    "print(\"is로 시작? \", str_se.startswith(\"is\"))\n",
    "print(\".로 끝? \", str_se.endswith(\".\"))\n",
    "print(\"learn으로 끝?\", str_se.endswith(\"learn\"))"
   ]
  },
  {
   "cell_type": "markdown",
   "id": "8ee4fd7a",
   "metadata": {},
   "source": [
    "## 문자열 바꾸기"
   ]
  },
  {
   "cell_type": "markdown",
   "id": "67efa1a9",
   "metadata": {},
   "source": [
    "### replace() 문자열에서 지정한 문자열을 찾아서 바꾸는 메서드\n",
    "\n",
    "str.replace(old, new, maxcount)"
   ]
  },
  {
   "cell_type": "code",
   "execution_count": 58,
   "id": "03b492f8",
   "metadata": {},
   "outputs": [
    {
     "name": "stdout",
     "output_type": "stream",
     "text": [
      "IPython is fast. IPython is friendly. IPython is open.\n",
      "IPython is fast. IPython is friendly. Python is open.\n",
      "IPython is fast. IPython is friendly. IPython is open.\n",
      "Python is fast. Python is friendly. Python is open.\n"
     ]
    }
   ],
   "source": [
    "str_a = 'Python is fast. Python is friendly. Python is open.'\n",
    "print(str_a.replace('Python','IPython'))\n",
    "print(str_a.replace('Python','IPython',2)) #maxcount는 바꿀 수 있는 수\n",
    "print(str_a.replace('Python','IPython',-1)) # 적용이 안되는 건가? - 뒤에서 부터 될줄 알았는데;;;\n",
    "print(str_a.replace('Python','IPython',0))"
   ]
  },
  {
   "cell_type": "markdown",
   "id": "9b4e291b",
   "metadata": {},
   "source": [
    "제거할 때도 사용된다"
   ]
  },
  {
   "cell_type": "code",
   "execution_count": 62,
   "id": "023d9487",
   "metadata": {},
   "outputs": [
    {
     "name": "stdout",
     "output_type": "stream",
     "text": [
      "[Python] [is] [fast]\n",
      "Python] is] fast]\n",
      "[Python [is [fast\n",
      "Python is fast\n"
     ]
    }
   ],
   "source": [
    "str_b = '[Python] [is] [fast]'\n",
    "str_b1 = str_b.replace('[','') # 문자열에서 '[' 를제거\n",
    "str_b2 = str_b.replace(']','')  \n",
    "str_b3 = str_b1.replace(']','')# 결과 문자열에서 다시']' 를제거\n",
    "\n",
    "print(str_b)\n",
    "print(str_b1)\n",
    "print(str_b2)\n",
    "print(str_b3)"
   ]
  },
  {
   "cell_type": "markdown",
   "id": "f1f4a78d",
   "metadata": {},
   "source": [
    "### 문자열 구성 확인하기"
   ]
  },
  {
   "cell_type": "markdown",
   "id": "819bc312",
   "metadata": {},
   "source": [
    "##### isalpha() = 문자열이 숫자, 특수문자, 공백이 아닌 문자로 구성되어 있을 때만 True\n",
    "##### isdigit() = 문자열이 모두 숫자로 구성되어있을 때만 True\n",
    "##### isalnum() = 문자열이 모두 특수 문자나 공백이 아닌 문자와 숫자로 구성돼 있을때만 True\n",
    "##### isspace() = 문자열이 모두 공백 문자로 구성되어 있을 때만 True\n",
    "##### isupper() = 문자열이 모두 로마자 대문자로 구성돼 있을때만 True\n",
    "##### islower() = 문자열이 모두 로마자 소문자로 구성돼 있을때만 True"
   ]
  },
  {
   "cell_type": "code",
   "execution_count": 2,
   "id": "ccc113bb",
   "metadata": {},
   "outputs": [
    {
     "name": "stdout",
     "output_type": "stream",
     "text": [
      "True\n",
      "False\n"
     ]
    }
   ],
   "source": [
    "print('Python'.isalpha()) #문자열에 공백, 특수문자, 숫자가 없음\n",
    "print('ver. 3.x'.isalpha()) #문자열에 공백, 특수문자, 숫자 중 하나가 있음"
   ]
  },
  {
   "cell_type": "code",
   "execution_count": 3,
   "id": "5f01a43b",
   "metadata": {},
   "outputs": [
    {
     "name": "stdout",
     "output_type": "stream",
     "text": [
      "True\n",
      "False\n"
     ]
    }
   ],
   "source": [
    "print('12345'.isdigit()) # 문자열이 모두 숫자로 구성됨\n",
    "print('12345abc'.isdigit()) #문자열이 숫자로만 구성되지 않음"
   ]
  },
  {
   "cell_type": "code",
   "execution_count": 4,
   "id": "edfbc778",
   "metadata": {},
   "outputs": [
    {
     "name": "stdout",
     "output_type": "stream",
     "text": [
      "True\n",
      "False\n"
     ]
    }
   ],
   "source": [
    "print('abc1234'.isalnum()) # 특수 문자나 공백이 아닌 문자와 숫자로 구성됨\n",
    "print('    abc1234'.isalnum()) # 문자열에 공백이 있음"
   ]
  },
  {
   "cell_type": "code",
   "execution_count": 5,
   "id": "e4f71e53",
   "metadata": {},
   "outputs": [
    {
     "name": "stdout",
     "output_type": "stream",
     "text": [
      "True\n",
      "False\n"
     ]
    }
   ],
   "source": [
    "print('     '.isspace()) # 문자열이 공백으로만 구성됨\n",
    "print(' 1   '.isspace()) # 문자열에 공백 외에 다른 문자가 있음"
   ]
  },
  {
   "cell_type": "code",
   "execution_count": 6,
   "id": "2759d7d8",
   "metadata": {},
   "outputs": [
    {
     "name": "stdout",
     "output_type": "stream",
     "text": [
      "True\n",
      "False\n",
      "True\n",
      "False\n"
     ]
    }
   ],
   "source": [
    "print('PYTHON'.isupper())  # 문자열이 모두 대문자로 구성됨\n",
    "print('Pythor'.isupper())  # 문자열에 대문자와 소문자가 있음\n",
    "print('pythor'.islower())  # 문자열이 모두 소문자로 구성됨\n",
    "print('Pythor'.islower())  # 문자열에 대문자와 소문자가 있음"
   ]
  },
  {
   "cell_type": "markdown",
   "id": "1cdcc45e",
   "metadata": {},
   "source": [
    "## 대소문자로 변경하기\n",
    "str.lower = 모두 소문자로 변경<br>\n",
    "str.upper = 모두 대문자로 변경"
   ]
  },
  {
   "cell_type": "code",
   "execution_count": 7,
   "id": "92b24c8b",
   "metadata": {},
   "outputs": [
    {
     "name": "stdout",
     "output_type": "stream",
     "text": [
      "python is powerful. python is easy to learn.\n",
      "PYTHON IS POWERFUL. PYTHON IS EASY TO LEARN.\n"
     ]
    }
   ],
   "source": [
    "string1 = 'Python is powerful. PYTHON IS EASY TO LEARN.'\n",
    "print(string1.lower())\n",
    "print(string1.upper())"
   ]
  },
  {
   "cell_type": "markdown",
   "id": "5ef8eee7",
   "metadata": {},
   "source": [
    "대소문자 구별 여부 확인"
   ]
  },
  {
   "cell_type": "code",
   "execution_count": 8,
   "id": "e564a0a8",
   "metadata": {},
   "outputs": [
    {
     "data": {
      "text/plain": [
       "False"
      ]
     },
     "execution_count": 8,
     "metadata": {},
     "output_type": "execute_result"
    }
   ],
   "source": [
    "' Python'  =='python'"
   ]
  },
  {
   "cell_type": "markdown",
   "id": "019e9f18",
   "metadata": {},
   "source": [
    "#### lower와 upper를 이용해 문자열 비교하기"
   ]
  },
  {
   "cell_type": "code",
   "execution_count": 10,
   "id": "07d4613d",
   "metadata": {},
   "outputs": [
    {
     "name": "stdout",
     "output_type": "stream",
     "text": [
      "True\n",
      "True\n"
     ]
    }
   ],
   "source": [
    "print('Python'.lower() == 'python'.lower())\n",
    "print('Python'.upper() == 'python'.upper())"
   ]
  },
  {
   "cell_type": "markdown",
   "id": "2d6bcca1",
   "metadata": {},
   "source": [
    "## 9.2 텍스트 파일의 데이터를 읽고 처리하기\n",
    "## 데이터 파일 준비 및 읽기"
   ]
  },
  {
   "cell_type": "markdown",
   "id": "a5224ce5",
   "metadata": {},
   "source": [
    "##### 파일을 아직 안만들었어서 오류!"
   ]
  },
  {
   "cell_type": "code",
   "execution_count": 11,
   "id": "011abccc",
   "metadata": {},
   "outputs": [
    {
     "name": "stderr",
     "output_type": "stream",
     "text": [
      "지정된 파일을 찾을 수 없습니다.\n"
     ]
    }
   ],
   "source": [
    "! type c:\\myPyCode\\data\\coffeeShopSales.txt"
   ]
  },
  {
   "cell_type": "code",
   "execution_count": 12,
   "id": "960a3d62",
   "metadata": {},
   "outputs": [
    {
     "name": "stdout",
     "output_type": "stream",
     "text": [
      "c:\\myPyCode\\data\n"
     ]
    }
   ],
   "source": [
    "cd c:\\myPyCode\\data\\"
   ]
  },
  {
   "cell_type": "markdown",
   "id": "8ea8a7af",
   "metadata": {},
   "source": [
    "##### 파일이 없으면 생성(작성)"
   ]
  },
  {
   "cell_type": "code",
   "execution_count": 17,
   "id": "fa4c3069",
   "metadata": {},
   "outputs": [],
   "source": [
    "f = open('coffeeShopSales.txt','w')\n",
    "f.write(' 날짜    에스프레소     아메리카노     카페라테     카푸치노\\n')\n",
    "f.write('10.15       10             50            45            20\\n')\n",
    "f.write('10.16       12             45            41            18\\n')\n",
    "f.write('10.17       11             53            32            25\\n')\n",
    "f.write('10.18       15             49            38            22\\n')\n",
    "f.close()"
   ]
  },
  {
   "cell_type": "code",
   "execution_count": 18,
   "id": "71ee1e13",
   "metadata": {},
   "outputs": [
    {
     "name": "stdout",
     "output_type": "stream",
     "text": [
      " 날짜    에스프레소     아메리카노     카페라테     카푸치노\n",
      "10.15       10             50            45            20\n",
      "10.16       12             45            41            18\n",
      "10.17       11             53            32            25\n",
      "10.18       15             49            38            22\n"
     ]
    }
   ],
   "source": [
    "#file_name = 'c:\\myPyCode\\data\\coffeeShopSales.txt'\n",
    "file_name = 'c:/myPyCode/data/coffeeShopSales.txt'\n",
    "\n",
    "f = open(file_name)      #파일열기\n",
    "for line in f:          # 한 줄씩 읽기\n",
    "    print(line, end='')  # 한 줄씩 출력\n",
    "f.close()                 # 파일 닫기"
   ]
  },
  {
   "cell_type": "markdown",
   "id": "b8f72efb",
   "metadata": {},
   "source": [
    "### 파일에서 읽은 문자열 데이터 처리"
   ]
  },
  {
   "cell_type": "markdown",
   "id": "235e0f4e",
   "metadata": {},
   "source": [
    "첫 번째 줄에 있는 항목이름을 가져와 빈칸을 기준으로 나누고, 두번째 줄 이후의 항목값을 처리"
   ]
  },
  {
   "cell_type": "code",
   "execution_count": 20,
   "id": "e5830098",
   "metadata": {},
   "outputs": [
    {
     "data": {
      "text/plain": [
       "' 날짜    에스프레소     아메리카노     카페라테     카푸치노\\n'"
      ]
     },
     "execution_count": 20,
     "metadata": {},
     "output_type": "execute_result"
    }
   ],
   "source": [
    "f = open(file_name) # 파일열기\n",
    "header = f.readline() #  데이터의 첫번째 줄을 읽음\n",
    "f.close()\n",
    "\n",
    "header"
   ]
  },
  {
   "cell_type": "markdown",
   "id": "95808a84",
   "metadata": {},
   "source": [
    "split를 이용해 리스트 만들기"
   ]
  },
  {
   "cell_type": "code",
   "execution_count": 21,
   "id": "f9af31c7",
   "metadata": {},
   "outputs": [
    {
     "data": {
      "text/plain": [
       "['날짜', '에스프레소', '아메리카노', '카페라테', '카푸치노']"
      ]
     },
     "execution_count": 21,
     "metadata": {},
     "output_type": "execute_result"
    }
   ],
   "source": [
    "header_list = header.split() # 첫줄의  문자열을 분리후 리스트로 변환\n",
    "header_list"
   ]
  },
  {
   "cell_type": "markdown",
   "id": "ad731b4f",
   "metadata": {},
   "source": [
    "for문을 이용하여 각 항목을 data_list에 넣는 코드"
   ]
  },
  {
   "cell_type": "code",
   "execution_count": 22,
   "id": "db35cdcb",
   "metadata": {},
   "outputs": [
    {
     "name": "stdout",
     "output_type": "stream",
     "text": [
      "['10.15', '10', '50', '45', '20']\n",
      "['10.16', '12', '45', '41', '18']\n",
      "['10.17', '11', '53', '32', '25']\n",
      "['10.18', '15', '49', '38', '22']\n"
     ]
    }
   ],
   "source": [
    "f = open(file_name)                # 파일 열기\n",
    "header = f.readline()              # 데이터의 첫 번째 줄을 읽음\n",
    "header_list = header.split()       # 첫 줄의 문자열을 분리한 후 리스트로 벼환\n",
    "\n",
    "for line in f:                     # 두 번째 줄부터 데이터를 읽어서 반복적을 처리\n",
    "    data_list= line.split()         # 문자열을 분리해서 리스트로 변환\n",
    "    print(data_list)                 # 결과 확인을 위해 리스트 출력\n",
    "    \n",
    "f.close()                             # 파일 닫기"
   ]
  },
  {
   "cell_type": "markdown",
   "id": "84586195",
   "metadata": {},
   "source": [
    "문자열로 되어있는 리스트를 숫자로 변환 후, 커피 종류 별로 판매량 데이터를 분류해서 넣기"
   ]
  },
  {
   "cell_type": "code",
   "execution_count": 23,
   "id": "25c4959e",
   "metadata": {},
   "outputs": [
    {
     "name": "stdout",
     "output_type": "stream",
     "text": [
      "에스프레소: [10, 12, 11, 15]\n",
      "아메리카노: [50, 45, 53, 49]\n",
      "카페라테: [45, 41, 32, 38]\n",
      "카푸치노: [20, 18, 25, 22]\n"
     ]
    }
   ],
   "source": [
    "f = open(file_name)                 # 파일 열기\n",
    "header = f.readline()               #데이터의 첫번재 줄을 읽음\n",
    "headerList = header.split()         # 첫 줄의 문자열을 분리한 후 리스트로 변환\n",
    "\n",
    "espresso =[]                        # 커피 종류 별로 빈 리스트 생성\n",
    "americano = []\n",
    "cafelatte = []\n",
    "cappucino = []\n",
    "\n",
    "for line in f:                     # 두 번째 줄부터 데이터를 읽어서 반복적으로 처리\n",
    "    dataList = line.split()         # 문자열에서 공백을 제거해서 문자열 리스트로 변환\n",
    "    \n",
    "    # 커피 종류별로 정수로 변환한후, 리스트의 항목으로 추가\n",
    "    espresso.append(int(dataList[1]))\n",
    "    americano.append(int(dataList[2]))\n",
    "    cafelatte.append(int(dataList[3]))\n",
    "    cappucino.append(int(dataList[4]))\n",
    "f.close()\n",
    "\n",
    "print(\"{0}: {1}\".format(header_list[1],espresso) ) #변수에 할당된 값을 출력\n",
    "print(\"{0}: {1}\".format(header_list[2],americano) ) \n",
    "print(\"{0}: {1}\".format(header_list[3],cafelatte) ) \n",
    "print(\"{0}: {1}\".format(header_list[4],cappucino) ) "
   ]
  },
  {
   "cell_type": "markdown",
   "id": "763a9773",
   "metadata": {},
   "source": [
    "나흘간 메뉴별 판매량과 하루 평균 판매량 구하기"
   ]
  },
  {
   "cell_type": "code",
   "execution_count": 25,
   "id": "6e81a7b3",
   "metadata": {},
   "outputs": [
    {
     "name": "stdout",
     "output_type": "stream",
     "text": [
      "[에스프레소] 판매량\n",
      "- 나흘전체: 48, 하루 평균:12.0\n",
      "[아메리카노] 판매량\n",
      "- 나흘전체: 197, 하루 평균:49.25\n",
      "[카페라테] 판매량\n",
      "- 나흘전체: 156, 하루 평균:39.0\n",
      "[카푸치노] 판매량\n",
      "- 나흘전체: 85, 하루 평균:21.25\n"
     ]
    }
   ],
   "source": [
    "total_sum = [sum(espresso), sum(americano), sum(cafelatte), sum(cappucino)]\n",
    "total_avg = [sum(espresso)/len(espresso),sum(americano)/len(americano), sum(cafelatte)/len(cafelatte), sum(cappucino)/len(cappucino)]\n",
    "\n",
    "for k in range(len(total_sum)):\n",
    "    print(\"[{0}] 판매량\".format(headerList[k+1])) # 0번은 날짜가 들어가서\n",
    "    print(\"- 나흘전체: {0}, 하루 평균:{1}\".format(total_sum[k], total_avg[k]))"
   ]
  },
  {
   "cell_type": "code",
   "execution_count": null,
   "id": "70bef2c0",
   "metadata": {},
   "outputs": [],
   "source": []
  }
 ],
 "metadata": {
  "kernelspec": {
   "display_name": "Python 3 (ipykernel)",
   "language": "python",
   "name": "python3"
  },
  "language_info": {
   "codemirror_mode": {
    "name": "ipython",
    "version": 3
   },
   "file_extension": ".py",
   "mimetype": "text/x-python",
   "name": "python",
   "nbconvert_exporter": "python",
   "pygments_lexer": "ipython3",
   "version": "3.9.13"
  }
 },
 "nbformat": 4,
 "nbformat_minor": 5
}

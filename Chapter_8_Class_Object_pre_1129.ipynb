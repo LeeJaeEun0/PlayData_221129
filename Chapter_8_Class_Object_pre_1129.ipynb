{
 "cells": [
  {
   "cell_type": "markdown",
   "id": "f7b0078e",
   "metadata": {},
   "source": [
    "## 학생"
   ]
  },
  {
   "cell_type": "code",
   "execution_count": 3,
   "id": "9813f344",
   "metadata": {},
   "outputs": [],
   "source": [
    "class Student():\n",
    "    def s_name(self):\n",
    "        print(\"학생의 이름은 {0}입니다.\".format(self.name))\n",
    "    def s_school(self):\n",
    "        print(\"{0}학생의 학교는 {1}입니다.\".format(self.name, self.school))\n",
    "    def s_num(self):\n",
    "        print(\"학번은 {0}입니다.\".format(self.number))\n",
    "    def s_sub(self):\n",
    "        print(\"학생이 들은 과목은 {0} 입니다.\".format(self.subject))"
   ]
  },
  {
   "cell_type": "code",
   "execution_count": 7,
   "id": "87234dd3",
   "metadata": {},
   "outputs": [
    {
     "name": "stdout",
     "output_type": "stream",
     "text": [
      "학생의 이름은 Ace입니다.\n",
      "Ace학생의 학교는 Ace school입니다.\n",
      "학번은 1입니다.\n",
      "학생이 들은 과목은 coding 입니다.\n"
     ]
    }
   ],
   "source": [
    "num1 = Student()\n",
    "\n",
    "num1.name = \"Ace\"\n",
    "num1.school = \"Ace school\"\n",
    "num1.number = 1\n",
    "num1.subject = \"coding\"\n",
    "\n",
    "num1.s_name()\n",
    "num1.s_school()\n",
    "num1.s_num()\n",
    "num1.s_sub()"
   ]
  },
  {
   "cell_type": "markdown",
   "id": "76da2905",
   "metadata": {},
   "source": [
    "### 부모에게 상속받은 메소드 그대로 사용하기"
   ]
  },
  {
   "cell_type": "code",
   "execution_count": 15,
   "id": "9867d037",
   "metadata": {},
   "outputs": [],
   "source": [
    "class Student():\n",
    "    instance_student = 0\n",
    "    def __init__(self, name, school, number, subject):\n",
    "        self.name= name\n",
    "        self.school = school\n",
    "        self.number = number\n",
    "        self.subject = subject\n",
    "#         Student.instance_student = Studnent.instance_student + 1 # 총 학생수 1증가\n",
    "        \n",
    "    def s_name(self):\n",
    "        print(\"학생의 이름은 {0}입니다.\".format(self.name))\n",
    "    def s_school(self):\n",
    "        print(\"{0}학생의 학교는 {1}입니다.\".format(self.name, self.school))\n",
    "    def s_num(self):\n",
    "        print(\"학번은 {0}입니다.\".format(self.number))\n",
    "    def s_sub(self, score):\n",
    "        print(\"학생이 들은 과목은 {0}이고 {1}점 입니다.\".format(self.subject, score))"
   ]
  },
  {
   "cell_type": "code",
   "execution_count": 16,
   "id": "f2088c5d",
   "metadata": {},
   "outputs": [
    {
     "name": "stdout",
     "output_type": "stream",
     "text": [
      "학생의 이름은 Ace입니다.\n",
      "Ace학생의 학교는 AceSchool입니다.\n",
      "학번은 1입니다.\n",
      "학생이 들은 과목은 coding이고 100점 입니다.\n"
     ]
    }
   ],
   "source": [
    "num1 = Student(\"Ace\",\"AceSchool\",1,\"coding\")\n",
    "\n",
    "num1.s_name()\n",
    "num1.s_school()\n",
    "num1.s_num()\n",
    "num1.s_sub(100)"
   ]
  },
  {
   "cell_type": "code",
   "execution_count": 17,
   "id": "e0d2ae36",
   "metadata": {},
   "outputs": [
    {
     "name": "stdout",
     "output_type": "stream",
     "text": [
      "학생의 이름은 cookie입니다.\n",
      "cookie학생의 학교는 CookieSchool입니다.\n",
      "학번은 2입니다.\n",
      "학생이 들은 과목은 coding이고 100점 입니다.\n"
     ]
    }
   ],
   "source": [
    "num2 = Student(\"cookie\",\"CookieSchool\",2,\"coding\")\n",
    "\n",
    "num2.s_name()\n",
    "num2.s_school()\n",
    "num2.s_num()\n",
    "num2.s_sub(100)"
   ]
  },
  {
   "cell_type": "markdown",
   "id": "11450a33",
   "metadata": {},
   "source": [
    "### 부모 클래스에서 상속 받은 메소드 바꾸기"
   ]
  },
  {
   "cell_type": "code",
   "execution_count": 26,
   "id": "9d631358",
   "metadata": {},
   "outputs": [],
   "source": [
    "class Sub_Student(Student):\n",
    "    def __init__(self, name, school, number, subject, friend):\n",
    "        Student.__init__(self, name, school, number, subject)\n",
    "        self.friend = friend\n",
    "    \n",
    "    def s_sub(self): # 부모의 클래스 대신 자식 클래스 이용\n",
    "        print(\"{0}의 친구는 {1} 입니다.\".format(self.name, self.friend))\n",
    "            "
   ]
  },
  {
   "cell_type": "code",
   "execution_count": 27,
   "id": "30c7d6e0",
   "metadata": {},
   "outputs": [
    {
     "name": "stdout",
     "output_type": "stream",
     "text": [
      "학생의 이름은 Lisa입니다.\n",
      "Lisa학생의 학교는 LisaSchool입니다.\n",
      "학번은 3입니다.\n",
      "Lisa의 친구는 James 입니다.\n"
     ]
    }
   ],
   "source": [
    "num3 = Sub_Student(\"Lisa\",\"LisaSchool\",3,\"coding\",\"James\")\n",
    "\n",
    "num3.s_name()\n",
    "num3.s_school()\n",
    "num3.s_num()\n",
    "num3.s_sub()"
   ]
  },
  {
   "cell_type": "markdown",
   "id": "0fb34ecf",
   "metadata": {},
   "source": [
    "### 자동차 옵션"
   ]
  },
  {
   "cell_type": "code",
   "execution_count": 25,
   "id": "bbfa91a1",
   "metadata": {},
   "outputs": [],
   "source": [
    "class Car(): # 기본 차들이 반드시 가져야하는 속성\n",
    "    def __init__ (self, pos):\n",
    "        self.pos = pos\n",
    "    def go(self):\n",
    "        self.pos = self.pos + 100\n",
    "        print(\"100만큼 전진한 당신의 현재 위치는 {0} 입니다.\".format(self.pos))\n",
    "    def stop(self):\n",
    "        print(\"멈춘 당신의 현재 위치는 {0} 입니다.\".format(self.pos))\n",
    "    def back(self):\n",
    "        self.pos = self.pos - 50\n",
    "        print(\"50만큼 뒤로 이동한 당신의 현재 위치는 {0} 입니다.\".format(self.pos))"
   ]
  },
  {
   "cell_type": "code",
   "execution_count": 26,
   "id": "8c26819a",
   "metadata": {},
   "outputs": [
    {
     "name": "stdout",
     "output_type": "stream",
     "text": [
      "100만큼 전진한 당신의 현재 위치는 110 입니다.\n",
      "100만큼 전진한 당신의 현재 위치는 210 입니다.\n",
      "100만큼 전진한 당신의 현재 위치는 310 입니다.\n",
      "50만큼 뒤로 이동한 당신의 현재 위치는 260 입니다.\n",
      "멈춘 당신의 현재 위치는 260 입니다.\n",
      "100만큼 전진한 당신의 현재 위치는 360 입니다.\n"
     ]
    }
   ],
   "source": [
    "car1 = Car(10)\n",
    "\n",
    "car1.go()\n",
    "car1.go()\n",
    "car1.go()\n",
    "car1. back()\n",
    "car1.stop()\n",
    "car1.go()"
   ]
  },
  {
   "cell_type": "markdown",
   "id": "a37ba92b",
   "metadata": {},
   "source": [
    "## 1129 추가 - 상속 (같은 차라고 해도 차 별로 옵션이 다른 경우)"
   ]
  },
  {
   "cell_type": "code",
   "execution_count": 27,
   "id": "845d9f20",
   "metadata": {},
   "outputs": [],
   "source": [
    "class Car(): # 기본 차들이 반드시 가져야하는 속성\n",
    "    def __init__ (self, pos):\n",
    "        self.pos = pos\n",
    "    def go(self):\n",
    "        self.pos = self.pos + 100\n",
    "        print(\"100만큼 전진한 당신의 현재 위치는 {0} 입니다.\".format(self.pos))\n",
    "    def stop(self):\n",
    "        print(\"멈춘 당신의 현재 위치는 {0} 입니다.\".format(self.pos))\n",
    "    def back(self):\n",
    "        self.pos = self.pos - 50\n",
    "        print(\"50만큼 뒤로 이동한 당신의 현재 위치는 {0} 입니다.\".format(self.pos))"
   ]
  },
  {
   "cell_type": "code",
   "execution_count": 28,
   "id": "27061a56",
   "metadata": {},
   "outputs": [],
   "source": [
    "class Car_Option(Car): # 기본 차들이 반드시 가져야하는 속성\n",
    "    def __init__ (self, pos):\n",
    "        Car.__init__ (self, pos)\n",
    "        \n",
    "    def hot_sheet(self):\n",
    "        print(\"열선 시트를 작동 합니다.\")\n",
    "    def cool_sheet(self):\n",
    "        print(\"통풍 시트를 작동 합니다.\")\n",
    "    def ldws(self):\n",
    "        print(\"차선을 이탈했습니다.\")\n",
    "    def lkms(self):\n",
    "        print(\"차선을 이탈했습니다. 차선으로 복귀했습니다. (핸들을 조작합니다.)\")\n",
    "    def rear_camera (self):\n",
    "        print(\"후방카메라를 켭니다.\")\n",
    "    def tpms(self):\n",
    "        print(\"타이어 공기압 점검이 필요합니다.\")\n",
    "    def navigation_on(self):\n",
    "        print(\"네비게이션을 실행 합니다.\")\n",
    "    def navigation_off(self):\n",
    "        print(\"네비게이션을 종료 합니다.\")\n",
    "    def cruise_control(self):\n",
    "        print(\"시속 80km를 유지합니다.\")"
   ]
  },
  {
   "cell_type": "code",
   "execution_count": 29,
   "id": "0a77c447",
   "metadata": {},
   "outputs": [
    {
     "name": "stdout",
     "output_type": "stream",
     "text": [
      "열선 시트를 작동 합니다.\n",
      "네비게이션을 실행 합니다.\n",
      "100만큼 전진한 당신의 현재 위치는 110 입니다.\n",
      "100만큼 전진한 당신의 현재 위치는 210 입니다.\n",
      "차선을 이탈했습니다.\n",
      "100만큼 전진한 당신의 현재 위치는 310 입니다.\n",
      "멈춘 당신의 현재 위치는 310 입니다.\n",
      "네비게이션을 종료 합니다.\n"
     ]
    }
   ],
   "source": [
    "car2 = Car_Option(10)\n",
    "\n",
    "car2.hot_sheet()\n",
    "car2.navigation_on()\n",
    "car2.go()\n",
    "car2.go()\n",
    "car2.ldws()\n",
    "car2.go()\n",
    "car2.stop()\n",
    "car2.navigation_off()"
   ]
  },
  {
   "cell_type": "code",
   "execution_count": 30,
   "id": "5a4a181d",
   "metadata": {},
   "outputs": [
    {
     "name": "stdout",
     "output_type": "stream",
     "text": [
      "통풍 시트를 작동 합니다.\n",
      "네비게이션을 실행 합니다.\n",
      "100만큼 전진한 당신의 현재 위치는 500 입니다.\n",
      "차선을 이탈했습니다. 차선으로 복귀했습니다. (핸들을 조작합니다.)\n",
      "100만큼 전진한 당신의 현재 위치는 600 입니다.\n",
      "타이어 공기압 점검이 필요합니다.\n",
      "후방카메라를 켭니다.\n",
      "50만큼 뒤로 이동한 당신의 현재 위치는 550 입니다.\n",
      "멈춘 당신의 현재 위치는 550 입니다.\n",
      "네비게이션을 종료 합니다.\n"
     ]
    }
   ],
   "source": [
    "car3 = Car_Option(400)\n",
    "\n",
    "car3.cool_sheet()\n",
    "car3.navigation_on()\n",
    "car3.go()\n",
    "car3.lkms()\n",
    "car3.go()\n",
    "car3.tpms()\n",
    "car3.rear_camera()\n",
    "car3.back()\n",
    "car3.stop()\n",
    "car3.navigation_off()"
   ]
  },
  {
   "cell_type": "markdown",
   "id": "be26d73f",
   "metadata": {},
   "source": [
    "## 1129 추가 - 상속을 두번하면 어떻게 될까?"
   ]
  },
  {
   "cell_type": "code",
   "execution_count": 49,
   "id": "faa7daac",
   "metadata": {},
   "outputs": [],
   "source": [
    "class Car(): # 기본 차들이 반드시 가져야하는 속성\n",
    "    def __init__ (self, pos):\n",
    "        self.pos = pos\n",
    "    def start(self):\n",
    "        print(\"시동을 켭니다.\")\n",
    "    def turn_off(self):\n",
    "        print(\"시동을 끕니다.\")\n",
    "    def go(self):\n",
    "        self.pos = self.pos + 100\n",
    "        print(\"100만큼 전진한 당신의 현재 위치는 {0} 입니다.\".format(self.pos))\n",
    "    def stop(self):\n",
    "        print(\"멈춘 당신의 현재 위치는 {0} 입니다.\".format(self.pos))\n",
    "    def back(self):\n",
    "        self.pos = self.pos - 50\n",
    "        print(\"50만큼 뒤로 이동한 당신의 현재 위치는 {0} 입니다.\".format(self.pos))"
   ]
  },
  {
   "cell_type": "code",
   "execution_count": 50,
   "id": "ade541b8",
   "metadata": {},
   "outputs": [],
   "source": [
    "class Car_Option(Car): # 기본 차들이 반드시 가져야하는 속성\n",
    "    def __init__ (self, pos):\n",
    "        Car.__init__ (self, pos)\n",
    "        \n",
    "    def hot_sheet(self):\n",
    "        print(\"열선 시트를 작동 합니다.\")\n",
    "    def cool_sheet(self):\n",
    "        print(\"통풍 시트를 작동 합니다.\")\n",
    "    def ldws(self):\n",
    "        print(\"차선을 이탈했습니다.\")\n",
    "    def lkms(self):\n",
    "        print(\"차선을 이탈했습니다. 차선으로 복귀했습니다. (핸들을 조작합니다.)\")\n",
    "    def rear_camera (self):\n",
    "        print(\"후방카메라를 켭니다.\")\n",
    "    def tpms(self):\n",
    "        print(\"타이어 공기압 점검이 필요합니다.\")\n",
    "    def navigation_on(self):\n",
    "        print(\"네비게이션을 실행 합니다.\")\n",
    "    def navigation_off(self):\n",
    "        print(\"네비게이션을 종료 합니다.\")\n",
    "    def cruise_control(self):\n",
    "        print(\"시속 80km를 유지합니다.\")"
   ]
  },
  {
   "cell_type": "code",
   "execution_count": 51,
   "id": "237ceeb4",
   "metadata": {},
   "outputs": [],
   "source": [
    "# 클래스 안에 변수, 함수 호출시 앞에 꼭!!!! self 붙이기 \n",
    "class Car_insurance(Car_Option) : #차 옵션이 있으면 보험료를 깍아주는 경우? - 어떻게 할건가 \n",
    "    def __init__ (self, pos, form):\n",
    "        Car_Option.__init__ (self, pos)\n",
    "        self.form = form\n",
    "        \n",
    "    def form_check(self): # 자동차 감액 대상인 차 옵션이 있는지를 체크\n",
    "        if self.form == \"y\" or self.form == \"Y\" : \n",
    "            self.form_y() #같은 클래스내 다른 메서드를 호출\n",
    "        elif self.form == \"n\" or self.form ==\"N\" :\n",
    "            self.form_n()\n",
    "        else:\n",
    "            print(\"오류-발생\")\n",
    "\n",
    "    def form_y(self):\n",
    "        print(\"자동차 보험료 감액 대상 입니다. 축하드립니다.\")\n",
    "    def form_n(self):\n",
    "        print(\"자동차 보험료 감액 대상이 아닙니다.\")"
   ]
  },
  {
   "cell_type": "code",
   "execution_count": 52,
   "id": "e75e4ce0",
   "metadata": {},
   "outputs": [
    {
     "name": "stdout",
     "output_type": "stream",
     "text": [
      "자동차 보험료 감액 대상 입니다. 축하드립니다.\n",
      "시동을 켭니다.\n",
      "통풍 시트를 작동 합니다.\n",
      "네비게이션을 실행 합니다.\n",
      "100만큼 전진한 당신의 현재 위치는 500 입니다.\n",
      "차선을 이탈했습니다. 차선으로 복귀했습니다. (핸들을 조작합니다.)\n",
      "100만큼 전진한 당신의 현재 위치는 600 입니다.\n",
      "타이어 공기압 점검이 필요합니다.\n",
      "후방카메라를 켭니다.\n",
      "50만큼 뒤로 이동한 당신의 현재 위치는 550 입니다.\n",
      "멈춘 당신의 현재 위치는 550 입니다.\n",
      "네비게이션을 종료 합니다.\n",
      "시동을 끕니다.\n"
     ]
    }
   ],
   "source": [
    "car4 = Car_insurance(400,'y') # 현재 위치: 400, 감액 대상인 옵션이 있음(lkms나 lwds같은 옵션은 보험료를 감액해준다.)\n",
    "\n",
    "car4.form_check()\n",
    "# 부모의 부모 클래스에서의 메서드도 이용가능\n",
    "car4.start()\n",
    "car4.cool_sheet()\n",
    "car4.navigation_on()\n",
    "car4.go()\n",
    "car4.lkms()\n",
    "car4.go()\n",
    "car4.tpms()\n",
    "car4.rear_camera()\n",
    "car4.back()\n",
    "car4.stop()\n",
    "car4.navigation_off()\n",
    "car4.turn_off()"
   ]
  }
 ],
 "metadata": {
  "kernelspec": {
   "display_name": "Python 3 (ipykernel)",
   "language": "python",
   "name": "python3"
  },
  "language_info": {
   "codemirror_mode": {
    "name": "ipython",
    "version": 3
   },
   "file_extension": ".py",
   "mimetype": "text/x-python",
   "name": "python",
   "nbconvert_exporter": "python",
   "pygments_lexer": "ipython3",
   "version": "3.9.13"
  }
 },
 "nbformat": 4,
 "nbformat_minor": 5
}

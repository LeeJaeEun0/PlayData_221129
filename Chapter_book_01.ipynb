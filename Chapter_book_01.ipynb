{
 "cells": [
  {
   "cell_type": "markdown",
   "id": "746db142",
   "metadata": {},
   "source": [
    "# 1장 파이썬 시작하기"
   ]
  },
  {
   "cell_type": "code",
   "execution_count": 1,
   "id": "47d5edc5",
   "metadata": {},
   "outputs": [
    {
     "name": "stdout",
     "output_type": "stream",
     "text": [
      "15보다 크다!\n"
     ]
    }
   ],
   "source": [
    "# 다른 책을 이용해서 총 복습\n",
    "a = 10\n",
    "b = 20\n",
    "c = a + b\n",
    "\n",
    "if c > 15:\n",
    "    print(\"15보다 크다!\")\n",
    "elif c < 15:\n",
    "    print(\"15보다 작다!\")"
   ]
  },
  {
   "cell_type": "code",
   "execution_count": 2,
   "id": "cc7e5f31",
   "metadata": {},
   "outputs": [
    {
     "name": "stdout",
     "output_type": "stream",
     "text": [
      "1. 커피잔, 티스푼, 커피믹스, 물, 전기포트를 준비하셍요.\n",
      "2. 물을 전기포트에 넣어 끓이세요.\n",
      "3. 커피잔에 끓인 물을 넣으세요.\n",
      "4. 커피잔에 커피믹스를 넣고 섞으세요.\n",
      "5. 잘 섞고 나서 맛있게 드세요!\n"
     ]
    }
   ],
   "source": [
    "# 커피잔, 티스푼, 커피믹스, 물, 전기 포트 # 커피만드는 과정을 5가지로 나누기\n",
    "print(\"1. 커피잔, 티스푼, 커피믹스, 물, 전기포트를 준비하셍요.\")\n",
    "print(\"2. 물을 전기포트에 넣어 끓이세요.\")\n",
    "print(\"3. 커피잔에 끓인 물을 넣으세요.\")\n",
    "print(\"4. 커피잔에 커피믹스를 넣고 섞으세요.\")\n",
    "print(\"5. 잘 섞고 나서 맛있게 드세요!\")"
   ]
  },
  {
   "cell_type": "markdown",
   "id": "f0bba167",
   "metadata": {},
   "source": [
    "## 1-3 자주 나오는 파이썬 용어들"
   ]
  },
  {
   "cell_type": "markdown",
   "id": "9f96a824",
   "metadata": {},
   "source": [
    "문장: 실행할 수 있는 코드의 최소 단위"
   ]
  },
  {
   "cell_type": "code",
   "execution_count": 3,
   "id": "018f990e",
   "metadata": {},
   "outputs": [
    {
     "name": "stdout",
     "output_type": "stream",
     "text": [
      "Python Programming\n"
     ]
    },
    {
     "data": {
      "text/plain": [
       "30"
      ]
     },
     "execution_count": 3,
     "metadata": {},
     "output_type": "execute_result"
    }
   ],
   "source": [
    "print(\"Python Programming\") #문장\n",
    "10 + 20                     #문장 "
   ]
  },
  {
   "cell_type": "markdown",
   "id": "afe8fe26",
   "metadata": {},
   "source": [
    "키워드: 특별한 의미가 부여된 단어로 파이썬이 쓰겠다고 예약한 것이다."
   ]
  },
  {
   "cell_type": "code",
   "execution_count": 5,
   "id": "62272d7a",
   "metadata": {},
   "outputs": [
    {
     "name": "stdout",
     "output_type": "stream",
     "text": [
      "['False', 'None', 'True', '__peg_parser__', 'and', 'as', 'assert', 'async', 'await', 'break', 'class', 'continue', 'def', 'del', 'elif', 'else', 'except', 'finally', 'for', 'from', 'global', 'if', 'import', 'in', 'is', 'lambda', 'nonlocal', 'not', 'or', 'pass', 'raise', 'return', 'try', 'while', 'with', 'yield']\n"
     ]
    }
   ],
   "source": [
    "import keyword #파이썬의 키워드 리스트, 사용자가 사용할 수 없으며 파이썬은 대소문자를 구분한다.\n",
    "print(keyword.kwlist)"
   ]
  },
  {
   "cell_type": "markdown",
   "id": "57d16036",
   "metadata": {},
   "source": [
    "식별자: 프로그래밍에서 언어에서 이름을 붙일때 사용하는 단어<br>\n",
    "주석: 프로그램의 진행에 전혀 영향을 주지않는 코드, 설명하기 위해 사용한다."
   ]
  },
  {
   "cell_type": "code",
   "execution_count": 6,
   "id": "1b461a7c",
   "metadata": {},
   "outputs": [
    {
     "name": "stdout",
     "output_type": "stream",
     "text": [
      "Hello! Python Programming!\n"
     ]
    }
   ],
   "source": [
    "print(\"Hello! Python Programming!\") # 문자열을 출력합니다. #설명하기 위해 주석을 사용합니다."
   ]
  },
  {
   "cell_type": "markdown",
   "id": "06d72f0a",
   "metadata": {},
   "source": [
    "연산자를 이용하기"
   ]
  },
  {
   "cell_type": "code",
   "execution_count": 8,
   "id": "c562b102",
   "metadata": {},
   "outputs": [
    {
     "data": {
      "text/plain": [
       "2"
      ]
     },
     "execution_count": 8,
     "metadata": {},
     "output_type": "execute_result"
    }
   ],
   "source": [
    "1 + 1"
   ]
  },
  {
   "cell_type": "code",
   "execution_count": 9,
   "id": "59f2d686",
   "metadata": {},
   "outputs": [
    {
     "data": {
      "text/plain": [
       "0"
      ]
     },
     "execution_count": 9,
     "metadata": {},
     "output_type": "execute_result"
    }
   ],
   "source": [
    "10-10"
   ]
  },
  {
   "cell_type": "markdown",
   "id": "3ae0712f",
   "metadata": {},
   "source": [
    "### 출력: print() 사용"
   ]
  },
  {
   "cell_type": "markdown",
   "id": "970c3bd9",
   "metadata": {},
   "source": [
    "하나만 출력하기"
   ]
  },
  {
   "cell_type": "code",
   "execution_count": 10,
   "id": "83028133",
   "metadata": {},
   "outputs": [
    {
     "name": "stdout",
     "output_type": "stream",
     "text": [
      "Hello Python Programming...!\n"
     ]
    }
   ],
   "source": [
    "print(\"Hello Python Programming...!\") # print() 함수를 통해서 출력"
   ]
  },
  {
   "cell_type": "code",
   "execution_count": 11,
   "id": "60b4dd07",
   "metadata": {},
   "outputs": [
    {
     "name": "stdout",
     "output_type": "stream",
     "text": [
      "52\n"
     ]
    }
   ],
   "source": [
    "print(52)"
   ]
  },
  {
   "cell_type": "markdown",
   "id": "5a718e2d",
   "metadata": {},
   "source": [
    "여러개 출력하기"
   ]
  },
  {
   "cell_type": "code",
   "execution_count": 12,
   "id": "6161efeb",
   "metadata": {},
   "outputs": [
    {
     "name": "stdout",
     "output_type": "stream",
     "text": [
      "52 273 Hello\n"
     ]
    }
   ],
   "source": [
    "print(52, 273, \"Hello\")"
   ]
  },
  {
   "cell_type": "code",
   "execution_count": 14,
   "id": "2fa9256e",
   "metadata": {},
   "outputs": [
    {
     "name": "stdout",
     "output_type": "stream",
     "text": [
      "안녕하세요! 저는 James 입니다!\n"
     ]
    }
   ],
   "source": [
    "print(\"안녕하세요!\",\"저는\",\"James 입니다!\") #"
   ]
  },
  {
   "cell_type": "markdown",
   "id": "765da4e8",
   "metadata": {},
   "source": [
    "줄바꿈하기"
   ]
  },
  {
   "cell_type": "code",
   "execution_count": 16,
   "id": "af3cf4be",
   "metadata": {},
   "outputs": [
    {
     "name": "stdout",
     "output_type": "stream",
     "text": [
      "\n"
     ]
    }
   ],
   "source": [
    "print()"
   ]
  },
  {
   "cell_type": "markdown",
   "id": "6076d9d8",
   "metadata": {},
   "source": [
    "실습하기"
   ]
  },
  {
   "cell_type": "code",
   "execution_count": 17,
   "id": "5e9cb89b",
   "metadata": {},
   "outputs": [
    {
     "name": "stdout",
     "output_type": "stream",
     "text": [
      "# 하나만 출력합니다.\n",
      "Hello Python Programming...!\n",
      "\n",
      "# 여러 개를 출력 합니다.\n",
      "10 20 30 40 50\n",
      "안녕하세요! 오늘 날씨가 참 좋아요!\n",
      "\n",
      "# 아무것도 출력하지 않습니다.\n",
      "---확인 전용선---\n",
      "\n",
      "\n",
      "---확인 전용선---\n"
     ]
    }
   ],
   "source": [
    "# 하나만 출력합니다.\n",
    "print(\"# 하나만 출력합니다.\")\n",
    "print(\"Hello Python Programming...!\")\n",
    "print() # 한줄 내리기\n",
    "\n",
    "#여러개를 출력합니다.\n",
    "print(\"# 여러 개를 출력 합니다.\")\n",
    "print(10,20,30,40,50)\n",
    "print(\"안녕하세요!\",\"오늘\",\"날씨가\",\"참\",\"좋아요!\")\n",
    "print()\n",
    "\n",
    "# 아무것도 입력하지 않으면 단순하게 줄바꿈합니다.\n",
    "print(\"# 아무것도 출력하지 않습니다.\")\n",
    "print(\"---확인 전용선---\")\n",
    "print()\n",
    "print()\n",
    "print(\"---확인 전용선---\")"
   ]
  },
  {
   "cell_type": "code",
   "execution_count": null,
   "id": "32b3a5a3",
   "metadata": {},
   "outputs": [],
   "source": []
  }
 ],
 "metadata": {
  "kernelspec": {
   "display_name": "Python 3 (ipykernel)",
   "language": "python",
   "name": "python3"
  },
  "language_info": {
   "codemirror_mode": {
    "name": "ipython",
    "version": 3
   },
   "file_extension": ".py",
   "mimetype": "text/x-python",
   "name": "python",
   "nbconvert_exporter": "python",
   "pygments_lexer": "ipython3",
   "version": "3.9.13"
  }
 },
 "nbformat": 4,
 "nbformat_minor": 5
}
